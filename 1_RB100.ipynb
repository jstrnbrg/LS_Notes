{
 "cells": [
  {
   "cell_type": "markdown",
   "metadata": {
    "colab_type": "text",
    "heading_collapsed": true,
    "id": "W3JjJFwYnkmC"
   },
   "source": [
    "# RB100-109: Programming foundations"
   ]
  },
  {
   "cell_type": "markdown",
   "metadata": {
    "hidden": true
   },
   "source": [
    "## Variable scope\n",
    "- **Constants**: Available anywhere in the programme and should stay **constant**.\n",
    "- A local variable’s scope is determined by where it is initialized.\n",
    "- Local variables initialized in an outer scope can be accessed in an inner scope, but not vice versa.\n",
    "- You can mutate outside local variables from within inner scope and have that change affect the outer scope.\n",
    "- Local variable scope is defined by a **block**.\n",
    "- A block is a piece of code **following a method invocation**, usually delimited by either curly braces `{...}` or `do/end`.\n",
    "- **Attention:** `{…}` or `do..end` following **syntax keywords** such as `for`, `while`, `until` do **not** create a new block as that isn’t method invocation, whereas `{…}` or `do..end` following `.times` is a new block.\n",
    "- A method definition `def ...` has no notion of “outer” or “inner” scope – you **must explicitly pass in any parameters to a method definition.**\n",
    "\n",
    "### Variable shadowing\n",
    "- Variable shadowing happens when a **block parameter has the same name as the name of the local variable** which was initialized outside of the block.\n",
    "- Variable shadowing prevents access to variables of the same name initialized outside of the block from within the block."
   ]
  },
  {
   "cell_type": "markdown",
   "metadata": {
    "hidden": true
   },
   "source": [
    "## Method definition and invocation\n",
    "- **Methods are defined with parameters, but they are invoked with arguments**.\n",
    "- A method **only** has access to the variables passed in as arguments.\n",
    "- Method definition is when, within our code, we define a Ruby method using the `def` keyword.\n",
    "- Method invocation is when we call a method.\n",
    "- **Method invocation followed by `{..}` or `do..end` defines a block**; the block is passed to the method as an argument during the invocation."
   ]
  },
  {
   "cell_type": "markdown",
   "metadata": {
    "hidden": true
   },
   "source": [
    "## Element reference\n",
    "### String element reference\n",
    "- integer-based index that represents each character in the string\n",
    "```ruby \n",
    "str = 'abcdefghi'\n",
    "str[2] # => \"c\"\n",
    "str[2, 3] # [starting index, number of chars] => \"cde\"\n",
    "str[2, 3][0] # => chaining: str[2, 3] = > \"cde\", \"cde\"[0] => \"c\"\n",
    "```\n",
    "\n",
    "### Array element reference\n",
    "- Arrays are lists of elements that are ordered by index, where each element can be any object.\n",
    "- Referencing an out-of-bounds index returns `nil`.\n",
    "- Elements in String and Array objects can be referenced using negative indices, starting from the last index in the collection -1 and working backwards.\n",
    "```ruby \n",
    "arr = ['a', 'b', 'c', 'd', 'e', 'f', 'g']\n",
    "arr[2] # => \"c\"\n",
    "arr[2, 3] #[start_index, number of elements] => [\"c\", \"d\", \"e\"]\n",
    "```\n",
    "\n",
    "### Hash element reference\n",
    "- Uses key-value pairs, both hash keys and values can be any object in Ruby.\n",
    "- But it is common practice to use symbols as the keys.\n",
    "- Keys in a hash must be unique, values can be duplicates.\n",
    "- To get just the hash’s keys use `.keys`, for the values use `.values`.\n",
    "- Use `.fetch()` to check if key exists, throws KeyError if it doesn’t.\n",
    "```ruby \n",
    "hsh = { 'fruit' => 'apple', 'vegetable' => 'carrot' }\n",
    "hsh['fruit']    # => \"apple\"\n",
    "hsh['fruit'][0] # => \"a\"\n",
    "```"
   ]
  },
  {
   "cell_type": "markdown",
   "metadata": {
    "hidden": true
   },
   "source": [
    "## Looping\n",
    "\n",
    "- In Ruby, a simple loop is created by calling the `Kernel#loop` method and passing a block to it.\n",
    "- `break`: exits the loop.\n",
    "- `next`: skips the rest of the current iteration and begin the next one.\n",
    "- `break` on the last line within the loop: mimics the behavior of a “do/while” loop. With a “do/while” loop, the code within the block is guaranteed to execute at least once.\n",
    "- `break` on the first line within the loop: mimics the behavior of a “while” loop. With a “while” loop, the code below break may or may not execute at all, depending on the condition.\n",
    "- Looping comprises four basic elements: a loop, a counter, a way to retrieve the current value, and a way to exit the loop."
   ]
  },
  {
   "cell_type": "markdown",
   "metadata": {
    "hidden": true
   },
   "source": [
    "## Sorting\n",
    "\n",
    "### The <=> comparison method\n",
    "- Any object in a collection that we want to sort must implement a <=> method.\n",
    "- This method performs comparison between two objects of the same type and returns -1, 0, or 1, depending on whether the first object is less than, equal to, or greater than the second object.\n",
    "- If the two objects cannot be compared then nil is returned.\n",
    "- The return value of the <=> method is used by `sort` to determine the order in which to place the items."
   ]
  },
  {
   "cell_type": "markdown",
   "metadata": {
    "hidden": true
   },
   "source": [
    "## Working with collections\n",
    "### each method\n",
    "- `[1, 2, 3, 4].each { |num| puts num }`\n",
    "- Iterates through the array object & passes each element of the array to the block as an argument for the block parameter.\n",
    "- Executes the block with the current argument.\n",
    "- When finished with all iterations it returns the original array.\n",
    "- `.each` ignores the return value of the block at each iteration\n",
    "\n",
    "### map method\n",
    "- `[1, 2, 3, 4].map { |num| num * 2 }`\n",
    "- Iterates through the array object & passes each element of the array to the block\n",
    "- Executes the block with the current argument.\n",
    "- Takes the return value of the block and moves it into a new array.\n",
    "- When finished with all iterations returns the new array containing the return values of all block iterations.\n",
    "\n",
    "### select method\n",
    "- `[1, 2, 3, 4].select { |num| puts num }`\n",
    "- Iterates through the array object & passes each element of the array to the block.\n",
    "- Executes the block with the current argument.\n",
    "- If the block **evaluates** (not \"is\") to `true`, the current argument is added to a new array.\n",
    "- If the block **evaluates** to `false` the next iteration beginns.\n",
    "- **Remember:** Everything in Ruby evaluates to boolean true except `false` and `nil`\n",
    "\n",
    "### reduce method\n",
    "- `[1, 2, 3, 4].reduce { |sum, num| sum += num }`\n",
    "- Iterates through the array object & passes each element of the array to the block\n",
    "- Executes the block with the current argument.\n",
    "- Applies operation to each element and returns result 'sum' when done iterating."
   ]
  },
  {
   "cell_type": "markdown",
   "metadata": {
    "hidden": true
   },
   "source": [
    "## Mutation\n",
    "- Most, but not all mutating methods have `!` in their name.\n",
    "- A variable is merely a name for some object.\n",
    "- Multiple variables can reference the same object. Modifying an object using one of its' variable names will be reflected in every other variable that is bound to that object.\n",
    "- Objects can be either mutable or immutable. Mutable objects can be changed; immutable objects cannot be changed.\n",
    "- In Ruby, numbers and boolean values are immutable.\n",
    "- Other objects, like arrays and strings can be mutated.\n",
    "- **Normal assignment and re-assigment (`+=` and alike) are not mutating**, it merely connects the variable to a new object.\n",
    "- **Indexed assignment is mutating** e.g. `arr[2] = “hi”`. \n",
    "  - The assignment **does** cause a new reference to be made, but it is the inner collection element e.g., (arr[2]) that is assigned to the new object, not the collection (enclosing object) itself.\n",
    "- **Concatenation using << is mutating.**\n",
    "\n",
    "\n",
    "#### Pass by value as integers are immutable  (mental model) "
   ]
  },
  {
   "cell_type": "code",
   "execution_count": 1,
   "metadata": {
    "colab": {},
    "colab_type": "code",
    "hidden": true,
    "id": "zfMIWSvvoRmJ"
   },
   "outputs": [
    {
     "name": "stdout",
     "output_type": "stream",
     "text": [
      "4\n",
      "3\n"
     ]
    }
   ],
   "source": [
    "def increment(a)\n",
    "  a = a + 1\n",
    "end\n",
    "\n",
    "b = 3\n",
    "puts increment(b)    # prints 4\n",
    "puts b               # prints 3"
   ]
  },
  {
   "cell_type": "markdown",
   "metadata": {
    "colab_type": "text",
    "hidden": true,
    "id": "VelwFsyboXCy"
   },
   "source": [
    "The integer object referenced by `b` with the value `3` is immutable. You can reasonably say that `b` is not modified by `#increment` since `b` is passed by value to `#increment` where it is assigned to variable `a`. Even though `a` is set to `4` inside the method, and returned to the caller, the original object referenced by `b` is unmodified.\n",
    "\n",
    "#### Pass by reference as strings are mutable (mental model) "
   ]
  },
  {
   "cell_type": "code",
   "execution_count": 2,
   "metadata": {
    "colab": {
     "base_uri": "https://localhost:8080/",
     "height": 51
    },
    "colab_type": "code",
    "hidden": true,
    "id": "AI0KPFukn-CC",
    "outputId": "84f41b52-56c3-4a0e-f88c-0150d28c3748"
   },
   "outputs": [
    {
     "name": "stdout",
     "output_type": "stream",
     "text": [
      "abc*\n",
      "abc*\n"
     ]
    }
   ],
   "source": [
    "def append(s)\n",
    "  s << '*'\n",
    "end\n",
    "\n",
    "t = 'abc'\n",
    "puts append(t)    # prints abc*\n",
    "puts t            # prints abc*"
   ]
  },
  {
   "cell_type": "markdown",
   "metadata": {
    "colab_type": "text",
    "hidden": true,
    "id": "bk_tEJxzn9rE"
   },
   "source": [
    "\n",
    "The String object referenced by `t` with the value `abc` is mutable. You can reasonably say that`t` is modified by `#append` since `t` is passed by reference to `#append` where it is assigned to variable `s`. When `s` is modified by append, it modifies the same object referenced by `t`, so upon return from the method, `t` still refers to the original (albeit modified) String object.\n",
    "\n",
    "#### Demonstration"
   ]
  },
  {
   "cell_type": "code",
   "execution_count": 3,
   "metadata": {
    "colab": {
     "base_uri": "https://localhost:8080/",
     "height": 130
    },
    "colab_type": "code",
    "hidden": true,
    "id": "26e0e2uQosDR",
    "outputId": "0f4b8c0f-0f5c-4073-b930-9412e26df952"
   },
   "outputs": [
    {
     "name": "stdout",
     "output_type": "stream",
     "text": [
      "original object 70276353047180\n",
      "initial object 70276353047180\n",
      "upcased object 70276353041740\n",
      "final object 70276353041740\n"
     ]
    }
   ],
   "source": [
    "def fix(value)\n",
    "  puts \"initial object #{value.object_id}\" \n",
    "  value = value.upcase\n",
    "  puts \"upcased object #{value.object_id}\"\n",
    "  value.concat('!')\n",
    "end\n",
    "\n",
    "s = 'hello'\n",
    "puts \"original object #{s.object_id}\"\n",
    "t = fix(s)\n",
    "puts \"final object #{t.object_id}\""
   ]
  },
  {
   "cell_type": "markdown",
   "metadata": {
    "colab_type": "text",
    "hidden": true,
    "id": "FC-HbJUCo4A3"
   },
   "source": [
    "This shows that `value = value.upcase` bound the return value of `value.upcase` to `value`; `value` now references a different object than it did before. Prior to the assignment, `value` referenced the same String as referenced by `s`, but after the assignment, `value` references a completely new String; the String referenced by #upcase’s return value."
   ]
  },
  {
   "cell_type": "markdown",
   "metadata": {
    "hidden": true
   },
   "source": [
    "## Variables as pointers\n",
    "- **Definition \"Pass by value\"**: passing in a copy of the object.\n",
    "- **Definition \"Pass by refernce\"**: passing in pointer to original object.\n",
    "-  Ruby exhibits a combination of behaviors from both “pass by reference” as well as “pass by value”. Some people call this **pass by reference of the value** or call by sharing.\n",
    "- When an operation within the method mutates the caller, it will affect the original object. (i.e. pass by reference)"
   ]
  },
  {
   "cell_type": "markdown",
   "metadata": {
    "hidden": true
   },
   "source": [
    "## puts vs return\n",
    "- `puts` prints the argument to the console and returns `nil`\n",
    "- `return` returns object to the calling level (one level up)"
   ]
  },
  {
   "cell_type": "markdown",
   "metadata": {
    "hidden": true
   },
   "source": [
    "## Truthiness\n",
    "- In Ruby, **every value apart from false and nil, evaluates to true** in a boolean context.\n",
    "- We can therefore say that in Ruby, **every value apart from false and nil is truthy.**\n",
    "- We can also say that **false and nil are falsey**.\n",
    "- This is not the same as saying every value apart from false and nil is true, or is equal to true."
   ]
  },
  {
   "cell_type": "markdown",
   "metadata": {
    "hidden": true
   },
   "source": [
    "## Implicit returns of methods and blocks\n",
    "- Methods and blocks return the last line that is evaluated unless there is an explcit `return` before."
   ]
  },
  {
   "cell_type": "markdown",
   "metadata": {
    "hidden": true
   },
   "source": [
    "## Copying and freezing\n",
    "\n",
    "### Shallow copy\n",
    "- When we want to save the original collection before performing some modifications.\n",
    "- Both `.dup` and `.clone` create a shallow copy of an object.\n",
    "- “Shallow” means that only the object that the method is called on is copied, but not nested objects inside, nested objects will be shared.\n",
    "\n",
    "\n",
    "### Freezing objects\n",
    "- Objects can be frozen in order to prevent them from being modified using `.freeze`.\n",
    "- Only mutable objects can be frozen because immutable objects, like integers, are already frozen.\n",
    "- We can check if an object is frozen with the frozen? method.\n",
    "- `freeze` only freezes the object it’s called on. If the object it’s called on contains other objects, those objects won’t be frozen. For example, if we have a nested array the nested objects can still be modified after calling freeze.\n",
    "- The difference between .`dup` and `.clone` is that clone preserves the frozen state of an object."
   ]
  },
  {
   "cell_type": "markdown",
   "metadata": {
    "hidden": true
   },
   "source": [
    "## Regex\n",
    "- `=~` returns index where match was found e.g. `\"Hello 21\" =~ /[0-9]/` --> 6 \n",
    "- \\w == [0-9a-zA-Z_]\n",
    "- \\d == [0-9]\n",
    "- \\s matches white space (tabs, regular space, newline)"
   ]
  },
  {
   "cell_type": "markdown",
   "metadata": {
    "hidden": true
   },
   "source": [
    "## Debugging \n",
    "1. Identify the problem: \n",
    "    - Where does it come from? \n",
    "    - Is it reproducible?\n",
    "2. Understand the problem: \n",
    "    - What is going wrong?\n",
    "    - What are the boundaries of the problem?\n",
    "    - Where is the origin?\n",
    "3. Implement the solution\n",
    "4. Test the solution \n",
    "\n",
    "### Types of errors\n",
    "- Syntax errors\n",
    "    - incorrect “grammar”\n",
    "    - generally stops your code from running\n",
    "- Logical errors\n",
    "    - incorrect logic\n",
    "    - generally runs but produces unexpected result\n",
    "    \n",
    "### Pry\n",
    "- pry is a REPL (read-evaluate-print-loop)\n",
    "- `require 'pry'`\n",
    "- `binding.pry` stops execution at that line\n",
    "- To step into object: `cd object`\n",
    "- To list methods availabel to object: `ls`\n",
    "- To get info on method: `show-doc methodname`\n",
    "- To run method: `methodname`\n",
    "- ‘pry-byebug’ extends pry with some additional commands: ‘next’, ‘step’, ‘continue’"
   ]
  },
  {
   "cell_type": "markdown",
   "metadata": {
    "hidden": true
   },
   "source": [
    "## Coding tips\n",
    "- Use descriptive variable names.\n",
    "- In Ruby, make sure to use snake_case when naming everything, except classes which are CamelCase or constants, which are all UPPERCASE.\n",
    "- Don’t mutate CONSTANTS.\n",
    "- A method should either return something or mutate the caller, not both.\n",
    "- Your goal should be to build small methods that are like LEGO blocks: they should be stand-alone pieces of functionality that you can use to piece together larger structures. You don’t want these methods to be mentally taxing to use.\n",
    "- Methods that mutate the caller should be named with a “update_” prefix.\n",
    "- Methods that print something should be named with a “print_” prefix.\n",
    "- Watch your indentation. 2 spaces, not tabs.\n",
    "- In Ruby, everything is truthy except nil and false.\n",
    "- Don’t mutate the caller during iteration, e.g. don’t do:\n",
    "```ruby \n",
    "numbers = [1,2,3,4]\n",
    "numbers.each {|x| numbers.delete(x)}\n",
    "#You would expect numbers to be empty but actually it still contains [2,4] ???\n",
    "```\n",
    "- Prevent variable shadowing: Variable shadowing occurs when you choose a local variable in an inner scope that shares the same name as an outer scope. It prevents you from accessing the outer scope variable from an inner scope.\n",
    "- Don’t use assignment in a conditional i.e. don’t do `if name = \"Ben\"`\n",
    "- Use underscore for unused parameters"
   ]
  },
  {
   "cell_type": "markdown",
   "metadata": {
    "hidden": true
   },
   "source": [
    "## Exam: Useful phrases\n",
    "### Assignment and re-assignment\n",
    "```ruby\n",
    "a = 'hello'\n",
    "b = a\n",
    "a = 'goodbye'\n",
    "```\n",
    "- **On line 1 we initialise the local variable `a` and create a new string object with the value `hello` whose reference is assigned to `a`.**\n",
    "- On line 2 we initialise the local variable `b` and assign it the string object that the local variable `a` references. Both variables now reference to the same object.\n",
    "- On line 3 we re-assign the local variable `a` to a new string object with the value `goodbye` whose reference is now stored by `a`. `b` still holds the reference to the string object with the value `hello`\n",
    "\n",
    "### Method definition and invocation\n",
    "\n",
    "```ruby\n",
    "def example(str)\n",
    "  i = 3\n",
    "  loop do\n",
    "    puts str\n",
    "    i -= 1\n",
    "    break if i == 0\n",
    "  end\n",
    "end\n",
    "\n",
    "example('hello')\n",
    "```\n",
    "- **On line 1-8 we define a method called `example` that takes one parameter.**\n",
    "- On line 2 we initialise the local variable `i` and assign to it the integer object with the value `3`.\n",
    "- **On line 3 we are calling the `loop` kernel method and pass in the `do end` block as the argument.**\n",
    "- **On line 4 we are calling the `puts` method and pass in the local `str` variable as the argument.** This will print the value of `str` when the method is executed.\n",
    "- On line 5 we are re-assigning the local variable `i` to the result of `i -1`. `i -= 1` is synthetical sugar for that. Speaking of synthetical sugar (ss), `-` is also ss for the `Integer#-` method, so we could rewrite that line as `i = i.-(1)`. So on that line we are re-assigning `i` to the return value of the method call `Integer#` with `1` passed in as the argument.\n",
    "- On line 6 we `break` out of the loop if the value of the object that `i` references is equal to `0`.\n",
    "- On line 10 we invoke the method `example` and pass a string object with the value `hello` as the argument.\n",
    "- The code will print `hello` to the console three times and return `nil` as loops without with a standard `break` expression return nil and a method returns the return value of the last line executed.\n",
    "\n",
    "### Mutability\n",
    "```\n",
    "array1 = %w(Moe Larry Curly Shemp Harpo Chico Groucho Zeppo)\n",
    "array2 = []\n",
    "array1.each { |value| array2 << value }\n",
    "array1.each { |value| value.upcase! if value.start_with?('C', 'S') }\n",
    "puts array2\n",
    "```\n",
    "- **One line 1 we initialise the local variable `array1` and create a new array object which in turn references multiple string objects with the values `Moe Larry Curly Shemp Harpo Chico Groucho Zeppo`. The reference of the array object is assigned to `array1`.**\n",
    "- On line 2 we initialise the local variable `array2` and create an new empty array object. The reference of that array object is assigned to array2.\n",
    "- **On line 3 we invoke the `each` method upon `array1` and pass in a block as an argument. The block defines one block parameter called `value`. The block is executed once for each item in `array1` which on each iteration is passed into the block as the argument and assigned to `value`.** The block then appends `value` to `array2`. Once all iterations are finished, `each` will return the object it was called on, in this case `array1`. However, the return value isn't used in any way. \n",
    "- On line 4 we invoke the `each` method on `array1` again and pass in a block as an argument. The block defines one block parameter called `value`. The block is executed once for each item in `array1` which is passed into block as the argument and assigned to `value`. Within the block, the mutating method `upcase!` is called upon the `value` if `value` starts with the character `C` or `S`. If that is the case, the `value` will be uppercased. \n",
    "- On line 5 the `puts` method is invoked and `array2` is passed in as the argument. That will print the values of `array2` to the console, one per line. \n",
    "- As `array2` holds references to the same string objects as `array1`, when these string objects are mutated on line 4, that will also be reflected in `array2`."
   ]
  },
  {
   "cell_type": "markdown",
   "metadata": {
    "hidden": true
   },
   "source": [
    "## Exam: Useful methods\n",
    "### Int\n",
    "- `digits`: `1234.digits` --> `[1,2,3,4]`\n",
    "- `divmod`: `11.divmod` --> `[3,2]` first is result of dividing, second is rest\n",
    "- `downto(limit)`: `5.downto(1) {|n| n}` passes 5,4,3,2,1 into block\n",
    "- `upto(limit)`: `1.upto(5) {|n| n}` passes 1,2,3,4,5 into block\n",
    "- `abs`: `-10.abs` --> `10`\n",
    "- `even?` and `odd?`\n",
    "- `times`: `5.times {|i| i}` --> passes 0,1,2,3,4 into block\n",
    "- `to_f` and `to_s`\n",
    "- `step(limit, step)`: `1.step(10,2) {|x| p x}` prints 1,3,5,7,9 \n",
    "\n",
    "\n",
    "### String\n",
    "- `* integer`: `\"hi \" * 3` --> \"hi hi hi \"\n",
    "- `+ string`: `\"hi\" + \"hi\"` --> \"hihi\"\n",
    "- `<<`: `\"hi\" << \"!\"` --> \"hi!\"\n",
    "- `[index, length(optional)]`: `\"hello\"[1,2]` --> \"el\"\n",
    "- `capitalize`: `\"hello\".capitalize` --> \"Hello\"\n",
    "- `center(width)`: `\"Hi\".center(6)` --> \"  Hi  \"\n",
    "- `chars`: `\"Hello\".chars` --> [\"H\", \"e\", \"l\", \"l\", \"o\"]\n",
    "- `downcase` and `upcase` and `swapcase`\n",
    "- `delete`: `\"Hello\".delete(\"l\")` --> \"Heo\"\n",
    "- `start_with?(str)` and `end_with?(str)`\n",
    "- `gsub(pattern, replacement)` Returns a copy of str with all occurrences of pattern substituted for the second argument. e.g. \n",
    "`\"hello\".gsub(/[aeiou]/, '*') ` -> \"h\\*ll\\*\"\n",
    "- `include?(str)`\n",
    "- `insert(index, other_str)`: `\"hello\".insert(2, \"X\")` --> \"heXllo\"\n",
    "- `inspect` Returns a printable version of str, surrounded by quote marks, with special characters escaped.\n",
    "- `strip` removes whitespace on both sides\n",
    "- `prepend(str)` and `append(str)`\n",
    "- `reverse`\n",
    "- `split(pattern)` and `join(pattern)`\n",
    "- `.ord` returns ASCII value\n",
    "\n",
    "\n",
    "\n",
    "### Enumerable \n",
    "- `all? {..}`: `[1, 2, 3 ].all? { |i| i >= 1 }` #=> true\n",
    "- `any? {..}`: `[1, 2, 3 ].any? { |i| i >= 3 }` #=> true\n",
    "- `count(pattern)`: `[1, 2, 3 ].count(2)` -> 1\n",
    "- `drop(n)`: drop first n elements from enum\n",
    "- `filter_map {..}` combination of `select` and `map` e.g. `(1..10).filter_map { |i| i * 2 if i.even? }` #=> [4, 8, 12, 16, 20]\n",
    "- `reduce`: e.g. `[1,2,3].reduce {|sum, x| sum + x}` --> sum\n",
    "- `map` and `each` and `select`\n",
    "- `min` and `max`\n",
    "- `min_by` and `max_by` e.g. `[\"hi\", \"test\", \"hello\"].max_by { |x| x.length }` --> \"hello\"\n",
    "- `partition {..}` returns nested array containing two arrays. first contains elements where condition is truthy, second where falsey `(1..6).partition { |v| v.even? }`\n",
    "- `sort {..}`: e.g. `[1,2,3,4].sort {|a,b| b <=> a}` (reverse sort)\n",
    "- `sort_by`: e.g. `[\"apple\", \"pear\", \"fig\"].sort_by { |word| word.length }`\n",
    "- `uniq`\n",
    "- `compact` removes where `value == nil`\n",
    "- `pop` returns and removes last element\n",
    "- `push(x)` appends x to end of array\n",
    "- `shift` returns and removes first element\n",
    "- `unshift(x)` prepends x to array\n",
    "- `product(x)` called on y with input x returns a new array with all the products "
   ]
  }
 ],
 "metadata": {
  "colab": {
   "collapsed_sections": [],
   "name": "Launch-School.ipynb",
   "provenance": [],
   "toc_visible": true
  },
  "kernelspec": {
   "display_name": "Ruby 2.6.5",
   "language": "ruby",
   "name": "ruby"
  },
  "language_info": {
   "file_extension": ".rb",
   "mimetype": "application/x-ruby",
   "name": "ruby",
   "version": "2.6.5"
  },
  "toc": {
   "base_numbering": 1,
   "nav_menu": {},
   "number_sections": true,
   "sideBar": true,
   "skip_h1_title": false,
   "title_cell": "Table of Contents",
   "title_sidebar": "Contents",
   "toc_cell": false,
   "toc_position": {
    "height": "calc(100% - 180px)",
    "left": "10px",
    "top": "150px",
    "width": "256px"
   },
   "toc_section_display": true,
   "toc_window_display": true
  }
 },
 "nbformat": 4,
 "nbformat_minor": 1
}
