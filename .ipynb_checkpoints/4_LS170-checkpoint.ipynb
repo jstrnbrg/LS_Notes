{
 "cells": [
  {
   "cell_type": "markdown",
   "metadata": {},
   "source": [
    "## LS170 Networking foundations"
   ]
  },
  {
   "cell_type": "markdown",
   "metadata": {},
   "source": [
    "## Basics"
   ]
  },
  {
   "cell_type": "markdown",
   "metadata": {},
   "source": [
    "### What is the internet?\n",
    "- LAN (Local Area Network): multiple computers and other devices connected via a network bridging device such as a hub or, more likely, a switch. The computers are all connected to this device via network cables, and this forms the network. The scope of communications is limited to devices that are connected (either wired or wirelessly) to the network switch or hub, which imposes some geographic limitations. That's the 'local' in Local Area Network.\n",
    "- Inter-network Communication: In order to enable communication between networks, we need to add routers into the picture. Routers are network devices that can route network traffic to other networks. Within a Local Area Network, they effectively act as gateways into and out of the network.\n",
    "- Network of networks: We can imagine the internet as a vast number of these networks connected together. In between all of the sub-networks are systems of routers that direct the network traffic."
   ]
  },
  {
   "cell_type": "markdown",
   "metadata": {},
   "source": [
    "### What is a protocol?\n",
    "- In general, a protocol is a \"system of rules\".\n",
    "- In terms of networks:  A protocol is \"set of rules governing the exchange or transmission of data\".\n",
    "- Examples of the most common protocls: IP, SMTP, TCP, HTTP, Ethernet, FTP, DNS, UDP, TLS\n",
    "- Why so many protocols? \n",
    "    1. Different protocols were developed to address different aspects of network communication. (TCP and HTTP)\n",
    "    2. Different protocols were developed to address the same aspect of network communication, but in a different way or for a specific use-case. (TCP vs UDP)"
   ]
  },
  {
   "cell_type": "markdown",
   "metadata": {},
   "source": [
    "### A layered system\n",
    "#### Network models\n",
    "- OSI model: divides the layers in terms of the functions that each layer provides (physical addressing, logical addressing and routing, encryption, compression, etc).\n",
    "- Internet Protocol Suite (TCP/IP) model: divides the layers in terms of the scope of communications within each layer (within a local network, between networks, etc).\n",
    "![title](img/network_models.png)\n",
    "- Both models have utility, no single model will perfectly fit a real-world implementation. \n",
    "- Such models are useful for gaining a broad-brush view of how a system works as a whole, and for modularizing different levels of responsibility within that system.\n",
    "- However, attempting to strictly adhere to the model when drilling into the detail of how a specific protocol works can be counter-productive. "
   ]
  },
  {
   "cell_type": "markdown",
   "metadata": {},
   "source": [
    "###\n",
    "- A Protocol Data Unit (PDU) is an amount or block of data transferred over a networ"
   ]
  },
  {
   "cell_type": "markdown",
   "metadata": {},
   "source": [
    "### Statelessness"
   ]
  },
  {
   "cell_type": "markdown",
   "metadata": {},
   "source": [
    "- A protocol is said to be stateless when it's designed in such a way that each request/response cycle is completely independent of the previous one.\n",
    "- Each request made to a resource is treated as a brand new entity, and different requests are not aware of each other. "
   ]
  },
  {
   "cell_type": "markdown",
   "metadata": {},
   "source": [
    "### URL (Uniform Resource Locator)"
   ]
  },
  {
   "cell_type": "markdown",
   "metadata": {},
   "source": [
    "- http://www.example.com:88/home?item=book\"\n",
    "- `http`: The scheme. It always comes before the colon and two forward slashes and tells the web client how to access the resource. In this case it tells the web client to use the Hypertext Transfer Protocol or HTTP to make a request. Other popular URL schemes are ftp, mailto or git. \n",
    "- `www.example.com`: The host. It tells the client where the resource is hosted or located.\n",
    "- `:88` : The port or port number. It is only required if you want to use a port other than the default.\n",
    "- `/home/`: The path. It shows what local resource is being requested. This part of the URL is optional.\n",
    "- `?item=book`: The query string, which is made up of query parameters. It is used to send data to the server. This part of the URL is also optional.\n",
    "- Unless a different port number is specified, port 80 will be used by default in normal HTTP requests. "
   ]
  },
  {
   "cell_type": "markdown",
   "metadata": {},
   "source": [
    "### Query strings / parameters"
   ]
  },
  {
   "cell_type": "markdown",
   "metadata": {},
   "source": [
    "- http://www.example.com?search=ruby&results=10\n",
    "- `?` marks the start of the query string\n",
    "- `search=ruby` is a name/value pair\n",
    "- `&` means that another name/value pair will follow\n",
    "- `results=10` is a name/value pair\n",
    "\n",
    "- Because query strings are passed in through the URL, they are only used in `HTTP GET` requests."
   ]
  },
  {
   "cell_type": "markdown",
   "metadata": {},
   "source": [
    "### URL encoding"
   ]
  },
  {
   "cell_type": "markdown",
   "metadata": {},
   "source": [
    "URLs are designed to accept only certain characters in the standard 128-character ASCII character set. Reserved or unsafe ASCII characters which are not being used for their intended purpose, as well as characters not in this set, have to be encoded. URL encoding serves the purpose of replacing these non-conforming characters with a % symbol followed by two hexadecimal digits that represent the ASCII code of the character.\n",
    "- Allowed characters: Only alphanumeric and special characters `$-_.+!'()\",` and reserved characters when used for their reserved purposes \n",
    "- As long as a character is not being used for its reserved purpose, it has to be encoded."
   ]
  },
  {
   "cell_type": "markdown",
   "metadata": {},
   "source": [
    "## Requests"
   ]
  },
  {
   "cell_type": "markdown",
   "metadata": {},
   "source": [
    "### Request methods"
   ]
  },
  {
   "cell_type": "markdown",
   "metadata": {},
   "source": [
    "- `GET` retrieve resources from server\n",
    "- `POST` send data to server"
   ]
  },
  {
   "cell_type": "markdown",
   "metadata": {},
   "source": [
    "### Request headers"
   ]
  },
  {
   "cell_type": "markdown",
   "metadata": {},
   "source": [
    "- HTTP headers allow the client and the server to send additional information during the request/response HTTP cycle. - Headers are colon-separated name-value pairs that are sent in plain text.\n",
    "- Request headers give more information about the client and the resource to be fetched."
   ]
  },
  {
   "cell_type": "markdown",
   "metadata": {},
   "source": [
    "## Responses"
   ]
  },
  {
   "cell_type": "markdown",
   "metadata": {},
   "source": [
    "### Status codes"
   ]
  },
  {
   "cell_type": "markdown",
   "metadata": {},
   "source": [
    "- `200`: OK\n",
    "- `302`: Redicect (resource moved)\n",
    "- `403`: Resource not found\n",
    "- `500`: Internal Server Error"
   ]
  },
  {
   "cell_type": "markdown",
   "metadata": {},
   "source": [
    "### Response headers"
   ]
  },
  {
   "cell_type": "markdown",
   "metadata": {},
   "source": [
    "- Response headers contain additional meta-information about the response data being returned."
   ]
  },
  {
   "cell_type": "markdown",
   "metadata": {},
   "source": [
    "## Stateful web applications"
   ]
  },
  {
   "cell_type": "markdown",
   "metadata": {},
   "source": [
    "### Sessions"
   ]
  },
  {
   "cell_type": "markdown",
   "metadata": {},
   "source": [
    "- With some help from the client (i.e., the browser), HTTP can be made to act as if it were maintaining a stateful connection with the server, even though it's not. \n",
    "- Server sends some form of a unique token to the client. \n",
    "- When client makes a request to that server, this token as part of the request, allowing the server to identify clients.\n",
    "- Called `session identifier`.\n",
    "- Creates a sense of persistent connection between requests. \n",
    "- This sort of faux statefulness has several consequences:\n",
    "  - First, every request must be inspected to see if it contains a session identifier. \n",
    "  - Second, if it does contain a session id, the server must check to ensure that this session id is still valid. The server needs to maintain some rules with regards to how to handle session expiration and also decide how to store its session data. \n",
    "  - Third, the server needs to retrieve the session data based on the session id. And finally, the server needs to recreate the application state (e.g., the HTML for a web request) from the session data and send it back to the client as the response.\n",
    "- Server has to work very hard to simulate a stateful experience, and every request still gets its own response, even if most of that response is identical to the previous response. i.e. unless something like AJAX is used the whole page needs to be crecreated.\n",
    "- The most common way to store session id information is via a browser cookie. \n",
    "- A cookie is a piece of data that's sent from the server and stored in the client during a request/response cycle.\n",
    "- Cookies or HTTP cookies, are small files stored in the browser and contain the session information.\n",
    "- The client side cookie is compared with the server-side session data on each request to identify the current session."
   ]
  },
  {
   "cell_type": "markdown",
   "metadata": {},
   "source": [
    "## AJAX"
   ]
  },
  {
   "cell_type": "markdown",
   "metadata": {},
   "source": [
    "- Asynchronous JavaScript and XML. \n",
    "- Allows browsers to issue requests and process responses without a full page refresh. \n",
    "- AJAX requests are just like normal requests: they are sent to the server with all the normal components of an HTTP request, and the server handles them like any other request. \n",
    "- The only difference is that instead of the browser refreshing and processing the response, the response is processed by a callback function, which is usually some client-side JavaScript code to re-render a part of the page."
   ]
  },
  {
   "cell_type": "markdown",
   "metadata": {},
   "source": [
    "## Security"
   ]
  },
  {
   "cell_type": "markdown",
   "metadata": {},
   "source": [
    "### Secure HTTP (HTTPS)"
   ]
  },
  {
   "cell_type": "markdown",
   "metadata": {},
   "source": [
    "- Requests and responses are strings containing information. \n",
    "- If a malicious hacker was attached to the same network, they could employ packet sniffing techniques to read the messages being sent back and forth. \n",
    "- With HTTPS every request/response is encrypted before being transported on the network. \n",
    "- This means if a malicious hacker sniffed out the HTTP traffic, the information would be encrypted and useless.\n",
    "- HTTPS sends messages through a cryptographic protocol called TLS for encryption. Earlier versions of HTTPS used SSL or Secure Sockets Layer until TLS was developed. "
   ]
  },
  {
   "cell_type": "markdown",
   "metadata": {},
   "source": [
    "### Same-origin policy"
   ]
  },
  {
   "cell_type": "markdown",
   "metadata": {},
   "source": [
    "- Same-origin policy permits unrestricted interaction between resources originating from the same origin, but restricts certain interactions between resources originating from different origins.\n",
    "- Same-origin policy doesn't restrict all cross-origin requests. Requests such as linking, redirects, or form submissions to different origins are typically allowed. Also typically allowed is the embedding of resources from other origins, such as scripts, css stylesheets, images and other media, fonts, and iframes. What is typically restricted are cross-origin requests where resources are being accessed programmatically using APIs such as XMLHttpRequest or fetch.\n",
    "- CORS (Cross-origin resource sharing) is a mechanism that allows interactions that would normally be restricted cross-origin to take place. It works by adding new HTTP headers, which allow servers to serve resources cross-origin to certain specified origins."
   ]
  },
  {
   "cell_type": "markdown",
   "metadata": {},
   "source": [
    "### Session Hijacking"
   ]
  },
  {
   "cell_type": "markdown",
   "metadata": {},
   "source": [
    "- Countermeasures for Session Hijacking:\n",
    "  - Resetting sessions: A new login renders old session id invalid.\n",
    "  - Expiration time on sessions\n",
    "  - HTTPS across the entire app"
   ]
  },
  {
   "cell_type": "markdown",
   "metadata": {},
   "source": [
    "### Cross-Site Scripting (XSS)"
   ]
  },
  {
   "cell_type": "markdown",
   "metadata": {},
   "source": [
    "- This type of attack happens when you allow users to input HTML or JavaScript that ends up being displayed by the site directly.\n",
    "- If the server side code doesn't do any sanitization of input, the user input will be injected into the page contents, and the browser will interpret the HTML and JavaScript and execute it.\n",
    "- Countermeasures: \n",
    "  - Sanitize user input\n",
    "  - Escape all user input data when displaying it."
   ]
  },
  {
   "cell_type": "markdown",
   "metadata": {},
   "source": [
    "## TO-DO:"
   ]
  },
  {
   "cell_type": "markdown",
   "metadata": {},
   "source": [
    "- Read: https://en.wikipedia.org/wiki/Hypertext_Transfer_Protocol"
   ]
  },
  {
   "cell_type": "code",
   "execution_count": null,
   "metadata": {},
   "outputs": [],
   "source": []
  }
 ],
 "metadata": {
  "kernelspec": {
   "display_name": "Ruby 2.6.5",
   "language": "ruby",
   "name": "ruby"
  },
  "language_info": {
   "file_extension": ".rb",
   "mimetype": "application/x-ruby",
   "name": "ruby",
   "version": "2.6.5"
  },
  "toc": {
   "base_numbering": 1,
   "nav_menu": {},
   "number_sections": true,
   "sideBar": true,
   "skip_h1_title": false,
   "title_cell": "Table of Contents",
   "title_sidebar": "Contents",
   "toc_cell": false,
   "toc_position": {},
   "toc_section_display": true,
   "toc_window_display": false
  }
 },
 "nbformat": 4,
 "nbformat_minor": 2
}
