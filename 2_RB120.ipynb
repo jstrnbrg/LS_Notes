{
 "cells": [
  {
   "cell_type": "markdown",
   "metadata": {
    "colab_type": "text",
    "id": "_YpAD0RuqH2O"
   },
   "source": [
    "# RB 120: Object oriented programming"
   ]
  },
  {
   "cell_type": "markdown",
   "metadata": {},
   "source": [
    "## Abstraction:\n",
    "- General concept of hiding the details of how something works (implementation details) to focus on what it does."
   ]
  },
  {
   "cell_type": "markdown",
   "metadata": {},
   "source": [
    "## Encapuslation:\n",
    "- A kind of abstraction that involves containing all the data and functionality for part of your program within a single construct, and exposing an interface for that construct.\n",
    "- Encapsulation lets us hide the internal representation of an object from the outside and only expose the methods and properties that users of the object need. We expose these properties and methods through the public interface of a class: its public methods.\n",
    "- Discurage users from reaching into its internal state directly."
   ]
  },
  {
   "cell_type": "markdown",
   "metadata": {},
   "source": [
    "## Polymorphism:\n",
    "- Polymorphism refers to the ability of objects of different classes to respond in the same way to a method invocation of the same name, i.e. giving objects of different classes a uniform interface.\n",
    "- Both class inheritance and mixin modules are ways in which objects of different type can be equipped with the same interface. This is why it is natural to say that inheritance and modules are ways in which Ruby enables polymorphism. \n",
    "- Inheritance\n",
    "- Module mixins\n"
   ]
  },
  {
   "cell_type": "markdown",
   "metadata": {},
   "source": [
    "## Classes and Objects\n",
    "- Classes are templates for instances of the class. Instances can also be called objects.\n",
    "- Classes define attributes and methods, i.e. the data and behaviour of each instance.\n",
    "- To instantiate an object call `ClassName.new` and assign the returned object to a variable.\n",
    "- Instance variables keep track of state, and instance methods expose behavior for objects.\n",
    "\n",
    "```ruby\n",
    "class GoodDog\n",
    "end\n",
    "\n",
    "spooky = GoodDog.new #Instantiating new object\n",
    "```"
   ]
  },
  {
   "cell_type": "markdown",
   "metadata": {},
   "source": [
    "### The standard Object class\n",
    "- Every class you create automatically is a subclass of the `Object` class and therefore inherits its methods. \n",
    "- Don't override methods from `Object` in your subclass. (apart from `to_s`)"
   ]
  },
  {
   "cell_type": "markdown",
   "metadata": {},
   "source": [
    "### Constructor method \n",
    "- `initialize` is also called a constructor and is executed whenever a new object is created. "
   ]
  },
  {
   "cell_type": "markdown",
   "metadata": {},
   "source": [
    "### Instance variables \n",
    "- Store object state.\n",
    "- Persist as long as the object they belong to persists.\n",
    "\n",
    "```ruby \n",
    "class GoodDog\n",
    "  def initialize(name)\n",
    "    @name = name\n",
    "  end\n",
    "end\n",
    "```\n",
    "- Constructor method takes one parameter `name`\n",
    "- `name` is assigned to the instance variable `@name`\n",
    "- To pass arguments to `initialize` pass them into `new` which passes them on to `initialize`\n",
    "- `sparky = GoodDog.new(\"Sparky\")`"
   ]
  },
  {
   "cell_type": "markdown",
   "metadata": {},
   "source": [
    "\n",
    "### Instance methods\n",
    "- Define object bahaviour\n",
    "- Instance methods have access to instance variables.\n",
    "\n",
    "```ruby \n",
    "class GoodDog\n",
    "  def initialize(name)\n",
    "    @name = name\n",
    "  end\n",
    "\n",
    "  def speak\n",
    "    \"#{@name} says Arf!\"\n",
    "  end\n",
    "end\n",
    "\n",
    "sparky = GoodDog.new(\"Sparky\")\n",
    "puts sparky.speak\n",
    "```"
   ]
  },
  {
   "cell_type": "markdown",
   "metadata": {
    "colab_type": "text",
    "id": "kISU4aobrrg2"
   },
   "source": [
    "\n",
    "### Accessor and Setter methods\n",
    "- By default instance variables can't be accessed from the outside. \n",
    "- In order to access an them, accessor methods that returns the value of the instance variable need to be defined. Example: \n",
    "\n",
    "```ruby\n",
    "def get_name\n",
    "    @name\n",
    "end\n",
    "```\n",
    "- In order to change the value of an instance variable, the class needs to define a setter method. Example: \n",
    "\n",
    "```ruby\n",
    "def set_name=(name)\n",
    "    @name = name\n",
    "end\n",
    "```\n",
    "- To use a setter method ruby has some syntactical sugar: Instead of having to call it like `object.set_name=(\"New_name\")` you can just do `object.set_name = \"New_name\"`\n",
    "- By convention in ruby the getter and setter method usually have the same name. Example: \n",
    "\n",
    "```ruby \n",
    " def name                 \n",
    "    @name\n",
    "  end\n",
    "\n",
    "  def name=(n)             \n",
    "    @name = n\n",
    "  end\n",
    "```\n",
    "- Because these methods are so commonplace, Ruby has a built-in way to automatically create these getter and setter methods for us, using the attr_accessor method. Example:\n",
    "\n",
    "```ruby \n",
    "class GoodDog\n",
    "  attr_accessor :name\n",
    "\n",
    "  def initialize(name)\n",
    "    @name = name\n",
    "  end\n",
    "\n",
    "  def speak\n",
    "    \"#{name} says arf!\"\n",
    "  end\n",
    "end\n",
    "```\n",
    "- To only create accessor methods use `attr_reader`.\n",
    "- To only create setter methods use `attr_writer`.\n",
    "- To create setter and getter use `attr_accessor`.\n",
    "- To use the setter/getter methods within another instance method you need to use the `self` keyword. Example: \n",
    "\n",
    "```ruby\n",
    "def change_info(n, h, w)\n",
    "  self.name = n\n",
    "  self.height = h\n",
    "  self.weight = w\n",
    "end\n",
    "```\n",
    "- Without `self` ruby thinks you are creating normal local variables. \n"
   ]
  },
  {
   "cell_type": "markdown",
   "metadata": {
    "colab_type": "text",
    "id": "DjsWY9Zdrrs6"
   },
   "source": [
    "### Class methods \n",
    "- Are called on the class, not individual objects.\n",
    "- When defining a class method, we prepend the method name with the reserved word `self`.\n",
    "- Objects contain state, and if we have a method that does not need to deal with state, then we can just use a class method."
   ]
  },
  {
   "cell_type": "markdown",
   "metadata": {},
   "source": [
    "### Class variables \n",
    "- Class variables are created using two @ symbols like so: `@@`\n",
    "- They can be used to keep track of state that is not bound to each instance. \n",
    "\n",
    "```ruby \n",
    "class GoodDog\n",
    "  @@number_of_dogs = 0\n",
    "\n",
    "  def initialize\n",
    "    @@number_of_dogs += 1\n",
    "  end\n",
    "\n",
    "  def self.total_number_of_dogs\n",
    "    @@number_of_dogs\n",
    "  end\n",
    "end\n",
    "```"
   ]
  },
  {
   "cell_type": "markdown",
   "metadata": {},
   "source": [
    "### Constants\n",
    "\n",
    "```ruby\n",
    "class GoodDog\n",
    "  NUM_LEGS = 4\n",
    "\n",
    "  def initialize\n",
    "    @legs = NUM_LEGS\n",
    "  end\n",
    "end\n",
    "```"
   ]
  },
  {
   "cell_type": "markdown",
   "metadata": {},
   "source": [
    "## Puts, p and to_s\n",
    "- When passing an object into `p`, ruby calls `inspect` on the object.\n",
    "- When passing an object into `puts`, ruby calls `to_s` on the object. \n",
    "    - `to_s` can be overwritten in the class definition.  \n",
    "- Pay attention to not overwrite methods inherited from standard objects. "
   ]
  },
  {
   "cell_type": "markdown",
   "metadata": {},
   "source": [
    "## Self\n",
    "- `self` can refer to different things depending on where it is used:\n",
    "    - `self`, **inside of an instance method**, references the instance (object) that called the method (the calling object). We have to use `self` to allow Ruby to disambiguate between initializing a local variable and calling a setter method.\n",
    "    - `self`, **outside of an instance method**, references the class and can be used to define class methods. "
   ]
  },
  {
   "cell_type": "markdown",
   "metadata": {
    "colab_type": "text",
    "id": "52RL2OYRrr3d"
   },
   "source": [
    "## Inheritance \n",
    "- Inheritance allows a class to inherit behavior from another class. \n",
    "- We use inheritance as a way to extract common behaviors from classes that share that behavior, and move it to a superclass.\n",
    "\n",
    "- Here, we're extracting the speak method to a superclass Animal, and we use inheritance to make that behavior available to GoodDog and Cat classes.\n",
    "\n",
    "```ruby\n",
    "class Animal\n",
    "  def speak\n",
    "    \"Hello!\"\n",
    "  end\n",
    "end\n",
    "\n",
    "class GoodDog < Animal\n",
    "end\n",
    "\n",
    "class Cat < Animal\n",
    "end\n",
    "```\n",
    "- We use the `<` symbol to signify that the GoodDog class is inheriting from the Animal class. \n",
    "- All methods from a parent class are available in the child class. \n",
    "- Adding a method of the same name to a child class **overrides** the parent class method. \n",
    "- Instance variables are not inherited, just methods (incl. getters and setters). Sub classes therefore will re-create the same instance variables when these methods are invoked. \n",
    "\n",
    "### super\n",
    "- Ruby provides us with a built-in function called `super`:\n",
    "- When you call ruby will search the inheritance hierarchy for a method by the `same name` and then invoke it. Example: \n",
    "\n",
    "```ruby \n",
    "class Animal\n",
    "  def speak\n",
    "    \"Hello!\"\n",
    "  end\n",
    "end\n",
    "\n",
    "class GoodDog < Animal\n",
    "  def speak\n",
    "    super + \" from GoodDog class\"\n",
    "  end\n",
    "end\n",
    "```\n",
    "- `super` without arguments: Passes all arguments given to the found parent method. \n",
    "- `super ` with arguments: Only passes the specified arguments up to the found parent method.  \n",
    "\n",
    "\n",
    "### Inheritance via superclasses vs mixin?\n",
    "- Superclasses make sense when there is a naturaly hierarchy of objects, e.g. \n",
    "  - Animals \n",
    "    - Mammals\n",
    "      - Cat \n",
    "      - Dog\n",
    "    - Fish \n",
    "      - Samon\n",
    "- However there are always exceptions, group these into moduls and mix them in (interface inheritance).\n",
    "- You can only subclass (class inheritance) from one class. You can mix in as many modules (interface inheritance) as you'd like.\n",
    "\n",
    "\n",
    "- \"Is-a\" relationship: class inheritance is usually the correct choice. \n",
    "- \"Has-a\" relationship: interface inheritance is usually the correct choice. \n",
    "- For example, a dog \"is an\" animal and it \"has an\" ability to swim.\n"
   ]
  },
  {
   "cell_type": "markdown",
   "metadata": {
    "colab_type": "text",
    "id": "cj05Ozr6rsCK"
   },
   "source": [
    "### Method lookup path\n",
    "- The method lookup path is the order in which Ruby will traverse the class hierarchy to look for the method definition of the invoked method.\n",
    "\n",
    "\n",
    "1. Current object's class\n",
    "2. Mixins in current object's class (from last to first)\n",
    "3. Parent classes\n",
    "4. Mixins in parent class (from last to first)\n",
    "5. `Object` ruby standard class\n",
    "6. `Kernel` \n",
    "7. `BasicObject`\n",
    "\n",
    "\n",
    "- To see the method lookup path call `ClassName.ancestors`"
   ]
  },
  {
   "cell_type": "markdown",
   "metadata": {},
   "source": [
    "## Modules "
   ]
  },
  {
   "cell_type": "markdown",
   "metadata": {},
   "source": [
    "### Modules for instance methods\n",
    "- A module is a collection of behaviors that is usable in other classes via mixins. \n",
    "- A module is \"mixed in\" to a class using the `include` method, passing in the module name.\n",
    "- Modules allow you to re-use functionality in different classes. \n",
    "- A class can only sub-class from one parent, but it can mix in as many modules as it likes.\n",
    "\n",
    "```ruby\n",
    "module Speak\n",
    "  def speak(sound)\n",
    "    puts \"#{sound}\"\n",
    "  end\n",
    "end\n",
    "```"
   ]
  },
  {
   "cell_type": "markdown",
   "metadata": {},
   "source": [
    "### Modules for \"module\" methods\n",
    "- For methods that don't fit into a specific class you can just group them in a module. \n",
    "- To call such a method do: `ModuleName.methodname`\n",
    "\n",
    "```ruby\n",
    "module Mammal\n",
    "  ...\n",
    "\n",
    "  def self.some_out_of_place_method(num)\n",
    "    num ** 2\n",
    "  end\n",
    "end\n",
    "\n",
    "value = Mammal.some_out_of_place_method(4)\n",
    "```"
   ]
  },
  {
   "cell_type": "markdown",
   "metadata": {},
   "source": [
    "### Modules for namespacing\n",
    "- Modules can be used for namespacing \n",
    "- Then in order to instantiate an object from such a class do: `sharky = Animals::Shark.new`\n",
    "\n",
    "```ruby\n",
    "module Color \n",
    "    class Red\n",
    "    end\n",
    "end\n",
    "\n",
    "red = Color::Red.new\n",
    "```\n"
   ]
  },
  {
   "cell_type": "markdown",
   "metadata": {},
   "source": [
    "## Private, Protected, and Public methods\n",
    "- Public methods: can be invoked on the class (class method) or instance (instance method) from anywhere in the program. \n",
    "    - Public methods comprise the class interface.\n",
    "- Private methods: can only be invoked from within the class definition by the same instance, without `self` .\n",
    "- Protected methods: can be called by any instance of the defining class or its subclasses but only from within the class definition (like private methods).\n",
    "- Try to not use protected methods as that's a ruby specific thing. \n",
    "- Keep in mind that the class should have as few public methods as possible. It lets us simplify using that class and protect data from undesired changes from the outer world."
   ]
  },
  {
   "cell_type": "code",
   "execution_count": 8,
   "metadata": {},
   "outputs": [
    {
     "name": "stdout",
     "output_type": "stream",
     "text": [
      "Bark\n",
      "private bark\n"
     ]
    },
    {
     "data": {
      "text/plain": [
       "\"Ben!Sophie!\""
      ]
     },
     "execution_count": 8,
     "metadata": {},
     "output_type": "execute_result"
    }
   ],
   "source": [
    "class Dog\n",
    "  attr_reader :name\n",
    "  def initialize(n)\n",
    "    @name = n\n",
    "  end\n",
    "  \n",
    "  def bark #public method\n",
    "    puts \"Bark\"\n",
    "  end\n",
    "  \n",
    "  def call_private_bark #public method\n",
    "    puts private_bark\n",
    "  end\n",
    "  \n",
    "  def call_protected_name(other)\n",
    "    self.protected_name  + other.protected_name #protected methods can be called with explicit receiver\n",
    "  end\n",
    "  \n",
    "  private \n",
    "  \n",
    "  def private_bark #private method\n",
    "    \"private bark\"\n",
    "  end\n",
    "  \n",
    "  protected\n",
    "  \n",
    "  def protected_name #protected method\n",
    "    \"#{self.name}!\"\n",
    "  end\n",
    "end\n",
    "\n",
    "\n",
    "\n",
    "dog = Dog.new(\"Ben\")\n",
    "dog.bark\n",
    "#dog.private_bark #error\n",
    "\n",
    "dog.call_private_bark\n",
    "\n",
    "dog2= Dog.new(\"Sophie\")\n",
    "dog.call_protected_name(dog2)\n"
   ]
  },
  {
   "cell_type": "markdown",
   "metadata": {
    "colab_type": "text",
    "id": "K56tY1DP7cxd"
   },
   "source": [
    "## Collaborator objects\n",
    "- An objects state can consists of references to other objects, these are called collaborator objects.\n",
    "- Collaborator objects can be of any type: custom class object, Array, Hash, String, Integer,"
   ]
  },
  {
   "cell_type": "code",
   "execution_count": 4,
   "metadata": {
    "colab": {
     "base_uri": "https://localhost:8080/",
     "height": 34
    },
    "colab_type": "code",
    "id": "59r7UFpo7e75",
    "outputId": "85221290-1916-4c8b-d586-38c87d519d21"
   },
   "outputs": [
    {
     "name": "stdout",
     "output_type": "stream",
     "text": [
      "Bruno the pet\n"
     ]
    }
   ],
   "source": [
    "class Person \n",
    "  attr_accessor :name, :pet \n",
    "  def initialize(name)\n",
    "    @name = name \n",
    "  end\n",
    "end\n",
    "\n",
    "class Pet \n",
    "  attr_accessor :name\n",
    "  def initialize(name)\n",
    "    @name = name \n",
    "  end\n",
    "end \n",
    "\n",
    "willy = Person.new(\"Willy\")\n",
    "bruno = Pet.new(\"Bruno the pet\")\n",
    "willy.pet = bruno \n",
    "puts willy.pet.name"
   ]
  },
  {
   "cell_type": "markdown",
   "metadata": {
    "colab_type": "text",
    "id": "NWgmXshjSEO0"
   },
   "source": [
    "## Planning a OO programm\n",
    "1. Write a description of the problem and extract major nouns and verbs.\n",
    "2. Make an initial guess at organizing the verbs and nouns into methods and classes/modules, then explore the problem with temporary code.\n",
    "3. When you have a better idea of the problem, model your thoughts into CRC cards."
   ]
  },
  {
   "cell_type": "markdown",
   "metadata": {
    "colab_type": "text",
    "id": "pWWnU2L5RxPI"
   },
   "source": [
    "### CRC cards\n",
    "- Top: Class name\n",
    "- Left: Responisbilites (attributes and methods)\n",
    "- Right: Collaborators \n",
    "- Keep in mind: Only list public methods, not concerned with implementation "
   ]
  },
  {
   "cell_type": "markdown",
   "metadata": {
    "colab_type": "text",
    "id": "cb0JNm3KRRNx"
   },
   "source": [
    "### OO coding tips\n",
    "- Avoid long method chains \n",
    "- Don't include the class name in the method name\n",
    "- Repetitive nouns in method names is a sign that you're missing a class.\n"
   ]
  },
  {
   "cell_type": "markdown",
   "metadata": {
    "colab_type": "text",
    "id": "KaRynjt9wmCJ"
   },
   "source": [
    "## Variable scope \n",
    "### Instance Variable Scope\n",
    "- Instance variables are initialised within instance methods\n",
    "- Instance variables are variables that start with `@` and are scoped at the object level. \n",
    "- They are used to track individual object state, and do not cross over between objects.\n",
    "- An instance variable is accessible in an object's instance methods, even if it's initialized outside of that instance method.\n",
    "- Unlike local variables, instance variables are accessible within an instance method even if they are not initialized or passed in to the method. Remember, their scope is at the object level.\n",
    "- If you try to reference an uninitialized instance variable, you get nil.\n",
    "- Inheritance: Instance Variables behave the way we'd expect. The only thing to watch out for is to make sure the instance variable is initialized before referencing it.\n",
    "\n",
    "\n",
    "### Class variable scope\n",
    "- Class variables start with `@@` and are scoped at the class level. \n",
    "- All instances share 1 copy of the class variable. --> Class variables can share state between objects. \n",
    "- Instances can access class variabls in instance methods.\n",
    "- Class methods can access class variables, regardless of where it's initialized.\n",
    "- Inheritance: Class Variables have a very insidious behavior of allowing sub-classes to override super-class class variables. Further, the change will affect all other sub-classes of the super-class. This is extremely unintuitive behavior, forcing some Rubyists to eschew using class variables altogether.\n",
    "\n",
    "```ruby \n",
    "class Person\n",
    "  @@total_people = 0            # initialized at the class level\n",
    "\n",
    "  def self.total_people\n",
    "    @@total_people              # accessible from class method\n",
    "  end\n",
    "\n",
    "  def initialize\n",
    "    @@total_people += 1         # mutable from instance method\n",
    "  end\n",
    "\n",
    "  def total_people\n",
    "    @@total_people              # accessible from instance method\n",
    "  end\n",
    "end\n",
    "```"
   ]
  },
  {
   "cell_type": "markdown",
   "metadata": {
    "colab_type": "text",
    "id": "RhGc4a9dyU0z"
   },
   "source": [
    "## Exceptions"
   ]
  },
  {
   "cell_type": "markdown",
   "metadata": {},
   "source": [
    "### Handling exceptions \n",
    "An exception is simply an exceptional state in your code. It is not necessarily a bad thing, but it is Ruby’s way of letting you know that your code is behaving unexpectedly. If an exception is raised and your code does not handle the exception, your program will crash and Ruby will provide a message telling you what type of error was encountered.\n",
    "- Most often, the errors you want to handle are descendents of the StandardError.\n",
    "- Why not just handle all exceptions? Doing so can be very dangerous. Some exceptions are more serious than others; there are some errors that we should allow to crash our program. \n",
    "- Using a begin/rescue block to handle errors can keep your program from crashing if the exception you have specified is raised\n",
    "\n",
    "```ruby \n",
    "begin\n",
    "  # put code at risk of failing here\n",
    "rescue TypeError\n",
    "  # take action\n",
    "rescue ArgumentError\n",
    "  # take a different action\n",
    "rescue ZeroDivisionError, TypeError\n",
    "  # take action \n",
    "end\n",
    "```\n",
    "- Remember not to tell Ruby to rescue Exception class exceptions. Doing so will rescue all exceptions down the Exception class hierarchy and is very dangerous, as explained previously.\n",
    "\n",
    "#### Exception objects\n",
    "`rescue TypeError => e`\n",
    "- The syntax in the above code rescues any TypeError, and assigns the exception object to `e`.\n",
    "- You can then call `message`, `backtrace` and more on `e`.\n",
    "\n",
    "```ruby \n",
    "begin\n",
    "  # code at risk of failing here\n",
    "rescue StandardError => e   # storing the exception object in e\n",
    "  puts e.message            # output error message\n",
    "end\n",
    "```\n",
    "\n",
    "#### `ensure`\n",
    "- An `ensure` clause in your begin/rescue block after the last rescue clause will always execute, whether an exception was raised or not.\n",
    "- Example: Whether or not an exception was raised when working with the file, you want to ensure that the file is closed. \n",
    "- The ensure clause serves as a single exit point for the block and allows you to put all of your cleanup code in one place\n",
    "\n",
    "\n",
    "#### `retry`\n",
    "\n",
    "```ruby \n",
    "RETRY_LIMIT = 5\n",
    "\n",
    "begin\n",
    "  attempts = attempts || 0\n",
    "  # do something\n",
    "rescue\n",
    "  attempts += 1\n",
    "  retry if attempts < RETRY_LIMIT\n",
    "end\n",
    "```\n",
    "\n",
    "### Raising exceptions\n",
    "- Ruby gives you the power to manually raise exceptions yourself by calling `Kernel#raise`. \n",
    "- Allows you to choose what type of exception to raise and even set your own error message. \n",
    "- Default error type: RuntimeError\n",
    "- To raise a different error type specify it: `raise TypeError.new(\"Something went wrong!\")`\n",
    "\n",
    "```ruby\n",
    "def validate_age(age)\n",
    "  raise(\"invalid age\") unless (0..105).include?(age)\n",
    "end\n",
    "\n",
    "begin\n",
    "  validate_age(age)\n",
    "rescue RuntimeError => e\n",
    "  puts e.message              #=> \"invalid age\"\n",
    "end\n",
    "```\n",
    "\n",
    "#### Raising Custom Exceptions\n",
    "\n",
    "```ruby\n",
    "class ValidateAgeError < StandardError\n",
    "end\n",
    "```\n",
    "- ValidateAgeError has access to all of the built-in exception object behaviors\n",
    "- Most often you will want to inherit from StandardError.\n"
   ]
  },
  {
   "cell_type": "markdown",
   "metadata": {
    "colab_type": "text",
    "id": "4ylHm9cZd4VX"
   },
   "source": [
    "## Equivalence \n",
    "- `==` compares if variable's values are the same\n",
    "- `equal?` checks if variables point to the same object\n",
    "\n",
    "### `==` method\n",
    "- The original == method is defined in the BasicObject class, which is the parent class for all classes in Ruby. \n",
    "- This implies every object in Ruby has a == method. \n",
    "- However, each class should override the == method to specify the value to compare.\n",
    "- If you don't provide a `==` method for custom classes, then calling `==` will behave like `equal?`.\n",
    "\n",
    "```ruby \n",
    "class Person\n",
    "  attr_accessor :name\n",
    "\n",
    "  def ==(other)\n",
    "    name == other.name     # relying on String#== here\n",
    "  end\n",
    "end\n",
    "```"
   ]
  },
  {
   "cell_type": "markdown",
   "metadata": {},
   "source": [
    "## Ruby synthetical sugar"
   ]
  },
  {
   "cell_type": "markdown",
   "metadata": {},
   "source": [
    "![title](img/sugar.png)"
   ]
  },
  {
   "cell_type": "markdown",
   "metadata": {},
   "source": [
    "## Practice"
   ]
  },
  {
   "cell_type": "code",
   "execution_count": 9,
   "metadata": {},
   "outputs": [
    {
     "name": "stdout",
     "output_type": "stream",
     "text": [
      "Hi, I'm a Cat called Buzz\n",
      "Jo\n",
      "Max\n",
      "14\n",
      "My name is Max and I'm a man and I weigh 100kg\n",
      "1\n",
      "I'm a trouser of size 20\n",
      "14\n"
     ]
    }
   ],
   "source": [
    "module Clothing\n",
    "  def self.description \n",
    "    puts \"This module defines clothing related classes\"\n",
    "  end \n",
    "  \n",
    "  class Trousers\n",
    "    attr_reader :size\n",
    "    def initialize(size)\n",
    "      @size = size \n",
    "    end\n",
    "    \n",
    "    def to_s\n",
    "      \"I'm a trouser of size #{size}\"\n",
    "    end\n",
    "  end\n",
    "end\n",
    "\n",
    "class Person \n",
    "  attr_accessor :name, :trousers\n",
    "  attr_reader :age, :pet\n",
    "  include Clothing\n",
    "  @@num_persons = 0 #class veriable\n",
    "  \n",
    "  def self.num_of_persons #class method\n",
    "    puts @@num_persons\n",
    "  end\n",
    "  \n",
    "  def initialize(name, age)\n",
    "    @name = name #instance variable\n",
    "    @age = age #instance variable\n",
    "    @@num_persons += 1\n",
    "    @trousers = Clothing::Trousers.new(20)\n",
    "  end\n",
    "  \n",
    "  def get_age #manual getter method\n",
    "    age\n",
    "  end\n",
    "  \n",
    "  def age=(n) #manual setter method\n",
    "    @age = n\n",
    "  end\n",
    "  \n",
    "  def description #instance method\n",
    "    \"My name is #{name}\" #calls name getter\n",
    "  end\n",
    "  \n",
    "  def adopt_pet(pet)\n",
    "    @pet = pet\n",
    "  end\n",
    "end\n",
    "\n",
    "class Male < Person\n",
    "  attr_accessor :weight\n",
    "  def initialize(name, age, weight)\n",
    "    super(name, weight) #super calls initialize in parent\n",
    "    @weight = weight\n",
    "  end\n",
    "  \n",
    "  def description\n",
    "    super + \" and I'm a man and I weigh #{weight}kg\" #super calls method in parent of same name\n",
    "  end\n",
    "  \n",
    "  def update_weight=(n)\n",
    "    self.weight = n\n",
    "  end\n",
    "end\n",
    "\n",
    "class Pet\n",
    "  attr_reader :name, :type\n",
    "  def initialize(name, type)\n",
    "    @name = name\n",
    "    @type = type \n",
    "  end\n",
    "  \n",
    "  def to_s\n",
    "    \"Hi, I'm a #{type} called #{name}\"\n",
    "  end\n",
    "end\n",
    "\n",
    "\n",
    "\n",
    "jo = Male.new(\"Jo\", 12, 70)\n",
    "buzz = Pet.new(\"Buzz\", \"Cat\")\n",
    "jo.adopt_pet(buzz)\n",
    "puts jo.pet\n",
    "puts jo.name\n",
    "jo.name = \"Max\"\n",
    "jo.update_weight = 100\n",
    "puts jo.name\n",
    "jo.age = 14\n",
    "puts jo.age\n",
    "puts jo.description\n",
    "Person.num_of_persons\n",
    "puts jo.trousers\n",
    "puts jo.get_age\n"
   ]
  },
  {
   "cell_type": "markdown",
   "metadata": {
    "colab_type": "text",
    "id": "9Sc4Lw8BTqDC"
   },
   "source": [
    "## To revise "
   ]
  },
  {
   "cell_type": "markdown",
   "metadata": {
    "colab_type": "text",
    "id": "SzvS9c_pU3hz"
   },
   "source": [
    "### Todo \n",
    "https://launchschool.com/lessons/dfff5f6b/assignments/acbfaeda\n",
    "\n",
    "https://launchschool.com/lessons/97babc46/assignments/cce6a20b\n",
    "\n",
    "https://medium.com/@kmccurley/object-oriented-programming-encapsulation-polymorphism-inheritance-ebbe24051202\n",
    "\n",
    "http://zetcode.com/lang/rubytutorial/oop/\n",
    "\n",
    "https://thoughtbot.com/blog/back-to-basics-polymorphism-and-ruby"
   ]
  },
  {
   "cell_type": "markdown",
   "metadata": {},
   "source": [
    "### RB120 test topics\n",
    "- Classes and objects: done\n",
    "- Use attr_* to create setter and getter methods: done\n",
    "- How to call setters and getters: done\n",
    "- Instance methods vs. class methods: done\n",
    "- Referencing and setting instance variables vs. using getters and setters: done\n",
    "- Class inheritance, encapsulation, and polymorphism\n",
    "- Modules: done\n",
    "- Method lookup path: done\n",
    "- self\n",
    "    - Calling methods with self: done\n",
    "    - More about self: done\n",
    "- Reading OO code: done I guess\n",
    "- Fake operators and equality: done\n",
    "- Truthiness: done\n",
    "- Working with collaborator objects: done\n",
    "\n",
    "\n",
    "from somewhere:\n",
    "- the variable scope of instance, class and constant variables.\n",
    "- the effect of sub-classing another class\n",
    "- the effect of mixing in a module\n",
    "- how to define and invoke instance and class methods"
   ]
  },
  {
   "cell_type": "markdown",
   "metadata": {},
   "source": [
    "## Useful phrases"
   ]
  },
  {
   "cell_type": "code",
   "execution_count": 61,
   "metadata": {},
   "outputs": [
    {
     "data": {
      "text/plain": [
       "#<Person:0x00007fb76a982ca8 @name=\"jo\", @age=12, @trousers=#<Clothing::Trousers:0x00007fb76a982c58 @size=20>>"
      ]
     },
     "execution_count": 61,
     "metadata": {},
     "output_type": "execute_result"
    }
   ],
   "source": [
    "class Person \n",
    "  attr_accessor :name, :trousers\n",
    "  attr_reader :age, :pet\n",
    "  include Clothing\n",
    "  @@num_persons = 0 #class veriable\n",
    "  \n",
    "  def self.num_of_persons #class method\n",
    "    puts @@num_persons\n",
    "  end\n",
    "  \n",
    "  def initialize(name, age)\n",
    "    @name = name #instance variable\n",
    "    @age = age #instance variable\n",
    "    @@num_persons += 1\n",
    "    @trousers = Clothing::Trousers.new(20)\n",
    "  end\n",
    "  \n",
    "  def get_age #manual getter method\n",
    "    age\n",
    "  end\n",
    "  \n",
    "  def age=(n) #manual setter method\n",
    "    @age = n\n",
    "  end\n",
    "  \n",
    "  def description #instance method\n",
    "    \"My name is #{name}\" #calls name getter\n",
    "  end\n",
    "  \n",
    "  def adopt_pet(pet)\n",
    "    @pet = pet\n",
    "  end\n",
    "end\n",
    "\n",
    "p = Person.new(\"jo\", 12)"
   ]
  },
  {
   "cell_type": "markdown",
   "metadata": {},
   "source": [
    "- This code defines a `Person` class. \n",
    "- On `line 2` we use ruby syntactical sugar to create getter and setter methods for the following instance variables: `name`, `trouser` by passing them into `attr_accessor`.\n",
    "- On `line 3` we use ruby syntactical sugar to create getter methods for the following instance variables: `age`, `name` by passing them into `attr_reader`.\n",
    "- On `line 4` we mix in the `Clothing` module.\n",
    "\n",
    "The person class contains the following methods:\n",
    "- A class method called `num_of_persons` that prints the `@@num_persons` class variable.\n",
    "- A constructor method that takes two parameters `name` and `age`. \n",
    "    - The constructor initializes the `@name` instance variable and assigns the `name` parameter to it. It also initializes the `@age` instance variable and assigns it the   `age` parameter.\n",
    "    - Moreover, the constructor increments the `@@num_persons` class variable by `1` whenever a new `Person` object is instantiated. \n",
    "    - The constrictor also initializes the `@trousers` instance variable and creates a new `Trousers` object which is assigned to the `@trousers` instance variable.\n",
    "- A `get_age` instance method that calls the `age` getter method, which in turn returns the value of the `@age` instance variable.\n",
    "- A `age=(n)` instance method that takes one parameter `n` and it to the `@age` instance variable. This method therefore is a setter function. \n",
    "- A `description` instance method that returns a descriptive string into which the return value of calling the `name` getter method is interpolated.\n",
    "- A `adopt_pet` instance method that takes one parameter called `pet` which is assigned to the `@pet` instance variable. This method is therefore a setter method."
   ]
  },
  {
   "cell_type": "code",
   "execution_count": 62,
   "metadata": {},
   "outputs": [
    {
     "data": {
      "text/plain": [
       ":to_s"
      ]
     },
     "execution_count": 62,
     "metadata": {},
     "output_type": "execute_result"
    }
   ],
   "source": [
    "module Clothing\n",
    "  def description \n",
    "    puts \"This module defines clothing related classes\"\n",
    "  end \n",
    "  \n",
    "  class Trousers\n",
    "    attr_reader :size\n",
    "    def initialize(size)\n",
    "      @size = size \n",
    "    end\n",
    "    \n",
    "    def to_s\n",
    "      \"I'm a trouser of size #{size}\"\n",
    "    end\n",
    "  end\n",
    "end"
   ]
  },
  {
   "cell_type": "markdown",
   "metadata": {},
   "source": [
    "- This snippet defines a module called `Clothing`.\n",
    "- The module contains one method called `description` and one class called `Trousers`.\n",
    "    - The `description` method will be available as an instance method for all objects instantiated from classes that mixed in the `Clothing` module. \n",
    "    - The `Trousers` class is defined in `Clothing` for namespacing reasons. To instantiate a `Trousers` object call `Clothing::Trousers.new`\n",
    "        - The `Trousers` class uses ruby suntaxtical sugar to create a getter method for the `size` instance variable. \n",
    "        - The constructor of `Trousers` takes one parameter called `size` and assigns it to the `@size` instance variable.\n",
    "        - `Trousers` also overwrites the `to_s` method whch all objects inherit from `Object`.\n",
    "\n"
   ]
  },
  {
   "cell_type": "code",
   "execution_count": 63,
   "metadata": {},
   "outputs": [
    {
     "name": "stdout",
     "output_type": "stream",
     "text": [
      "Max\n",
      "2\n"
     ]
    }
   ],
   "source": [
    "jo = Person.new(\"Jo\", 12)\n",
    "#buzz = Pet.new(\"Buzz\", \"Cat\")\n",
    "#jo.adopt_pet(buzz)\n",
    "#puts jo.pet\n",
    "jo.name = \"Max\"\n",
    "puts jo.name\n",
    "Person.num_of_persons"
   ]
  },
  {
   "cell_type": "markdown",
   "metadata": {},
   "source": [
    "- On `line 1` we initialise a local variable called `jo` and instantiate a new `Male` object by calling `new` and passing in 3 arguments. `new` forwards the arguments to the `initialize` constructor method. The object's reference is assigned to the variable `jo`.\n",
    "- On `line 2` we initialise a local variable called `buzz` and instantiate a new `Pet` object by calling `new` and passing in 2 arguments. `new` forwards the arguments to the `initialize` constructor method. The object's reference is assigned to the local variable `buzz`.\n",
    "- On `line 3` we invoke the `adopt_pet` instance method on the `jo` object and pass in the reference to the `buzz` object. Internally that will assign the reference pointing to `buzz` to the `@pet` instance variable of `jo` which means that `buzz` is now a collaborator object of `jo`.\n",
    "- On `line 4` we call the `pet` getter method on `jo` whose return value is passed into `puts`. \n",
    "- On `line 5`  we call the `name=` setter method on `jo` and pass in a string object with a value `Max`. `name = ` is ruby syntaxtical sugar for `name=(x)`. Internally that re-assigns the instance variable `@name` to `Max`.\n",
    "- On `line 6` we call the `name` getter method on `jo` which returns the value of the instance method `@name` which is then passed into `puts` (and printed).\n",
    "- On `line 7` we invoke the `num_of_persons` class method on the `Persons` class, which will print the value of the `@@num_persons` class variable."
   ]
  }
 ],
 "metadata": {
  "colab": {
   "collapsed_sections": [],
   "name": "Launch-School.ipynb",
   "provenance": [],
   "toc_visible": true
  },
  "kernelspec": {
   "display_name": "Ruby 2.6.5",
   "language": "ruby",
   "name": "ruby"
  },
  "language_info": {
   "file_extension": ".rb",
   "mimetype": "application/x-ruby",
   "name": "ruby",
   "version": "2.6.5"
  },
  "toc": {
   "base_numbering": 1,
   "nav_menu": {},
   "number_sections": true,
   "sideBar": true,
   "skip_h1_title": false,
   "title_cell": "Table of Contents",
   "title_sidebar": "Contents",
   "toc_cell": false,
   "toc_position": {
    "height": "calc(100% - 180px)",
    "left": "10px",
    "top": "150px",
    "width": "340px"
   },
   "toc_section_display": true,
   "toc_window_display": true
  }
 },
 "nbformat": 4,
 "nbformat_minor": 1
}
